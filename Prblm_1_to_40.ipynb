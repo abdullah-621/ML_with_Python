{
  "nbformat": 4,
  "nbformat_minor": 0,
  "metadata": {
    "colab": {
      "provenance": [],
      "authorship_tag": "ABX9TyMocAtbPMQ2Tkfxw6Rw5BRH",
      "include_colab_link": true
    },
    "kernelspec": {
      "name": "python3",
      "display_name": "Python 3"
    },
    "language_info": {
      "name": "python"
    }
  },
  "cells": [
    {
      "cell_type": "markdown",
      "metadata": {
        "id": "view-in-github",
        "colab_type": "text"
      },
      "source": [
        "<a href=\"https://colab.research.google.com/github/abdullah-621/ML_with_Python/blob/main/Prblm_1_to_40.ipynb\" target=\"_parent\"><img src=\"https://colab.research.google.com/assets/colab-badge.svg\" alt=\"Open In Colab\"/></a>"
      ]
    },
    {
      "cell_type": "code",
      "source": [
        "class Mysum:\n",
        "  def __init__(self, l):\n",
        "    self.l = l\n",
        "\n",
        "  def __str__(self):\n",
        "    return f\"Sum of the list is : {sum(self.l)}\"\n",
        "\n",
        "a = Mysum([1,2,3,4,5])\n",
        "print(a)\n"
      ],
      "metadata": {
        "colab": {
          "base_uri": "https://localhost:8080/"
        },
        "id": "Yau-f-JoBUEv",
        "outputId": "aaf1bf3b-a957-40d7-822e-7265bda81f26"
      },
      "execution_count": null,
      "outputs": [
        {
          "output_type": "stream",
          "name": "stdout",
          "text": [
            "Sum of the list is : 15\n"
          ]
        }
      ]
    },
    {
      "cell_type": "code",
      "source": [
        "from functools import reduce\n",
        "\n",
        "class Mymult:\n",
        "  def __init__(self, l):\n",
        "    self.l = l\n",
        "\n",
        "  def __str__(self):\n",
        "    return f\"Multi of the list is : {reduce(lambda x,y : x * y , self.l)}\"\n",
        "\n",
        "a = Mymult([1,2,3,4,5])\n",
        "print(a)\n"
      ],
      "metadata": {
        "colab": {
          "base_uri": "https://localhost:8080/"
        },
        "id": "ujrYDYyQBUKE",
        "outputId": "8d1b058b-d11e-4b9f-aa8f-169ef77f59cc"
      },
      "execution_count": null,
      "outputs": [
        {
          "output_type": "stream",
          "name": "stdout",
          "text": [
            "Multi of the list is : 120\n"
          ]
        }
      ]
    },
    {
      "cell_type": "code",
      "source": [
        "class Largest:\n",
        "  def __init__(self, l):\n",
        "    self.l = l\n",
        "\n",
        "  def __str__(self):\n",
        "\n",
        "    a = self.l[0]\n",
        "\n",
        "    for i in self.l:\n",
        "      if a < i:\n",
        "        a = i\n",
        "\n",
        "    return f\"Largest number of the list is : {a}\"\n",
        "\n",
        "a = Largest([1,2,3,4,5])\n",
        "print(a)\n"
      ],
      "metadata": {
        "colab": {
          "base_uri": "https://localhost:8080/"
        },
        "id": "nJtqHZBIBUOb",
        "outputId": "a60fa543-cc63-4951-8f4d-1d735ad9a708"
      },
      "execution_count": null,
      "outputs": [
        {
          "output_type": "stream",
          "name": "stdout",
          "text": [
            "Largest number of the list is : 5\n"
          ]
        }
      ]
    },
    {
      "cell_type": "code",
      "source": [
        "class Smallest:\n",
        "  def __init__(self, l):\n",
        "    self.l = l\n",
        "\n",
        "  def __str__(self):\n",
        "\n",
        "    a = self.l[0]\n",
        "\n",
        "    for i in self.l:\n",
        "      if a > i:\n",
        "        a = i\n",
        "\n",
        "    return f\"Smallest number of the list is : {a}\"\n",
        "\n",
        "a = Smallest([1,2,3,4,5])\n",
        "print(a)\n"
      ],
      "metadata": {
        "colab": {
          "base_uri": "https://localhost:8080/"
        },
        "id": "fX7pI-B8CnYc",
        "outputId": "7b33c43d-818e-4e52-d648-fe5a8ec928a9"
      },
      "execution_count": null,
      "outputs": [
        {
          "output_type": "stream",
          "name": "stdout",
          "text": [
            "Smallest number of the list is : 1\n"
          ]
        }
      ]
    },
    {
      "cell_type": "code",
      "source": [
        "class string:\n",
        "  def __init__(self, s):\n",
        "    self.s = s\n",
        "\n",
        "  def __str__(self):\n",
        "    n = 0\n",
        "\n",
        "    for word in self.s:\n",
        "      if (len(word) >= 2) and (word[0] == word[-1]):\n",
        "        n += 1\n",
        "\n",
        "    return f\"{n}\"\n",
        "\n",
        "s = string(['abc', 'xyz', 'aba', '1221'])\n",
        "print(s)"
      ],
      "metadata": {
        "colab": {
          "base_uri": "https://localhost:8080/"
        },
        "id": "MFo-hEW0CnVi",
        "outputId": "081f574d-746d-477d-ef6a-936cabb76c97"
      },
      "execution_count": null,
      "outputs": [
        {
          "output_type": "stream",
          "name": "stdout",
          "text": [
            "2\n"
          ]
        }
      ]
    },
    {
      "cell_type": "code",
      "source": [
        "class sorting:\n",
        "  def __init__(self, l):\n",
        "    self.l = l\n",
        "\n",
        "  def last(self, sub):\n",
        "    return sub[-1]\n",
        "\n",
        "  def sorted_list(self):\n",
        "    return sorted(self.l, key = self.last)\n",
        "\n",
        "s = sorting([(2, 5), (1, 2), (4, 4), (2, 3), (2, 1)])\n",
        "s.sorted_list()\n"
      ],
      "metadata": {
        "id": "qXRvmjoHCnTb",
        "colab": {
          "base_uri": "https://localhost:8080/"
        },
        "outputId": "7b6f8906-29dd-4af1-d345-98731d67bae8"
      },
      "execution_count": null,
      "outputs": [
        {
          "output_type": "execute_result",
          "data": {
            "text/plain": [
              "[(2, 1), (1, 2), (2, 3), (4, 4), (2, 5)]"
            ]
          },
          "metadata": {},
          "execution_count": 4
        }
      ]
    },
    {
      "cell_type": "code",
      "source": [
        "class sorting:\n",
        "  def __init__(self, l):\n",
        "    self.l = l\n",
        "\n",
        "  def sorted_list(self):\n",
        "    return sorted(self.l, key = lambda x : x[-1])\n",
        "\n",
        "s = sorting([(2, 5), (1, 2), (4, 4), (2, 3), (2, 1)])\n",
        "s.sorted_list()\n"
      ],
      "metadata": {
        "id": "TmhduVWiCnQj",
        "colab": {
          "base_uri": "https://localhost:8080/"
        },
        "outputId": "e7fbac11-f2ee-4437-a86e-4c4e2839faef"
      },
      "execution_count": null,
      "outputs": [
        {
          "output_type": "execute_result",
          "data": {
            "text/plain": [
              "[(2, 1), (1, 2), (2, 3), (4, 4), (2, 5)]"
            ]
          },
          "metadata": {},
          "execution_count": 5
        }
      ]
    },
    {
      "cell_type": "code",
      "source": [
        "# 7\n",
        "\n",
        "class rem_dup:\n",
        "  def __init__(self, l):\n",
        "    self.l = l\n",
        "\n",
        "  def __str__(self):\n",
        "    return f\"Unique ele : {list(set(self.l))}\"\n",
        "\n",
        "r = rem_dup([1,2,1,3,4,2,5,6,7])\n",
        "print(r)\n",
        "# r.remove_duplicate()\n",
        "\n"
      ],
      "metadata": {
        "id": "jtM7Rkx0CnN6",
        "colab": {
          "base_uri": "https://localhost:8080/"
        },
        "outputId": "7d04ac2f-088f-472a-fbf3-4eed51e46629"
      },
      "execution_count": null,
      "outputs": [
        {
          "output_type": "stream",
          "name": "stdout",
          "text": [
            "Unique ele : [1, 2, 3, 4, 5, 6, 7]\n"
          ]
        }
      ]
    },
    {
      "cell_type": "code",
      "source": [
        "# 8\n",
        "class empty:\n",
        "  def __init__(self, l):\n",
        "    self.l = l\n",
        "\n",
        "  def __str__(self):\n",
        "    if len(self.l) > 0:\n",
        "      return f\"Not Empty\"\n",
        "    else:\n",
        "      return \"Empty\"\n",
        "\n",
        "e = empty([3])\n",
        "print(e)"
      ],
      "metadata": {
        "id": "YlmRsrASCnLi",
        "colab": {
          "base_uri": "https://localhost:8080/"
        },
        "outputId": "47e3344f-cecb-496a-86c2-da3be109c047"
      },
      "execution_count": null,
      "outputs": [
        {
          "output_type": "stream",
          "name": "stdout",
          "text": [
            "Not Empty\n"
          ]
        }
      ]
    },
    {
      "cell_type": "code",
      "source": [
        "# 9\n",
        "\n",
        "class copy:\n",
        "  def init(self, l):\n",
        "    self.l = l\n",
        "\n",
        "  def copy_l(self):\n",
        "    return self.l.copy() * 4\n",
        "\n",
        "c = copy()\n",
        "c.init([1,2,3,4,5])\n",
        "print(c.copy_l())\n"
      ],
      "metadata": {
        "id": "sxlJm5m6CnI7",
        "colab": {
          "base_uri": "https://localhost:8080/"
        },
        "outputId": "3cfb0cb4-3562-4569-d28b-3fdaa9199ad3"
      },
      "execution_count": null,
      "outputs": [
        {
          "output_type": "execute_result",
          "data": {
            "text/plain": [
              "[1, 2, 3, 4, 5, 1, 2, 3, 4, 5, 1, 2, 3, 4, 5, 1, 2, 3, 4, 5]"
            ]
          },
          "metadata": {},
          "execution_count": 15
        }
      ]
    },
    {
      "cell_type": "code",
      "source": [
        "# 10\n",
        "class find:\n",
        "  def __init__(self, l, n):\n",
        "    self.l = l\n",
        "    self.n = n\n",
        "\n",
        "  def find_word(self):\n",
        "    a = []\n",
        "    for word in self.l:\n",
        "      if len(word) > self.n:\n",
        "        a.append(word)\n",
        "\n",
        "    return a\n",
        "\n",
        "\n",
        "f = find(['masum', 'noman','shafi','kalami'], 5)\n",
        "f.find_word()\n"
      ],
      "metadata": {
        "id": "_yRSww5UCnGm",
        "colab": {
          "base_uri": "https://localhost:8080/"
        },
        "outputId": "def53bac-082a-4c0c-e57d-9b320a2e5ead"
      },
      "execution_count": null,
      "outputs": [
        {
          "output_type": "execute_result",
          "data": {
            "text/plain": [
              "['kalami']"
            ]
          },
          "metadata": {},
          "execution_count": 18
        }
      ]
    },
    {
      "cell_type": "code",
      "source": [
        "# 11\n",
        "class common:\n",
        "  def __init__(self, l1, l2):\n",
        "    self.l1 = l1\n",
        "    self.l2 = l2\n",
        "\n",
        "  def find_common(self):\n",
        "    for i in self.l1:\n",
        "      if i in self.l2:\n",
        "        return True\n",
        "    else:\n",
        "      return False\n",
        "\n",
        "c = common([1,2,3,4,53],[5,6,7,8,9])\n",
        "c.find_common()"
      ],
      "metadata": {
        "id": "AWIM_sirCnD_",
        "colab": {
          "base_uri": "https://localhost:8080/"
        },
        "outputId": "44d198dd-7664-4809-822f-8ea9b49fd948"
      },
      "execution_count": null,
      "outputs": [
        {
          "output_type": "execute_result",
          "data": {
            "text/plain": [
              "False"
            ]
          },
          "metadata": {},
          "execution_count": 21
        }
      ]
    },
    {
      "cell_type": "code",
      "source": [
        "# 14\n",
        "class remove_even:\n",
        "  def __init__(self, l):\n",
        "    self.l = l\n",
        "\n",
        "  def remove(self):\n",
        "    for i in range(0, len(self.l)):\n",
        "      self.l = [i for i in self.l if i % 2 != 0]\n",
        "    return self.l\n",
        "\n",
        "r = remove_even([1,2,3,4,5,6,7,8])\n",
        "r.remove()"
      ],
      "metadata": {
        "id": "I9KZsNQnCnBb",
        "colab": {
          "base_uri": "https://localhost:8080/"
        },
        "outputId": "e4e2014b-c6ed-4a93-ec80-37a3fc3cb094"
      },
      "execution_count": null,
      "outputs": [
        {
          "output_type": "execute_result",
          "data": {
            "text/plain": [
              "[1, 3, 5, 7]"
            ]
          },
          "metadata": {},
          "execution_count": 25
        }
      ]
    },
    {
      "cell_type": "code",
      "source": [
        "# 19\n",
        "class difference:\n",
        "  def __init__(self, l1, l2):\n",
        "    self.l1 = l1\n",
        "    self.l2 = l2\n",
        "\n",
        "  def diff(self):\n",
        "    d1 =  list(set(self.l1) - set(self.l2))\n",
        "    d2 =  list(set(self.l2) - set(self.l1))\n",
        "\n",
        "    return d1 + d2\n",
        "\n",
        "d = difference([1,2,3,4,5],[4,5,6,7,8])\n",
        "d.diff()\n"
      ],
      "metadata": {
        "id": "OzRCP4bGCm_J",
        "colab": {
          "base_uri": "https://localhost:8080/"
        },
        "outputId": "1c4f5337-ba09-4899-d565-8730f59c54fc"
      },
      "execution_count": null,
      "outputs": [
        {
          "output_type": "execute_result",
          "data": {
            "text/plain": [
              "[1, 2, 3, 8, 6, 7]"
            ]
          },
          "metadata": {},
          "execution_count": 30
        }
      ]
    },
    {
      "cell_type": "code",
      "source": [
        "class convert:\n",
        "  def __init__(self,l):\n",
        "    self.l = l\n",
        "\n",
        "  def __str__(self):\n",
        "    return \"\".join(self.l)\n",
        "\n",
        "c = convert(['M','a','s','u','m'])\n",
        "print(c)\n"
      ],
      "metadata": {
        "id": "Sn2I9FgfCm8m",
        "colab": {
          "base_uri": "https://localhost:8080/"
        },
        "outputId": "d492b654-4015-480a-e943-96ac92a05de8"
      },
      "execution_count": 3,
      "outputs": [
        {
          "output_type": "stream",
          "name": "stdout",
          "text": [
            "Masum\n"
          ]
        }
      ]
    },
    {
      "cell_type": "code",
      "source": [
        "# 24\n",
        "\n",
        "class prblm:\n",
        "  def __init__(self, l1,l2):\n",
        "    self.l1 = l1\n",
        "    self.l2 = l2\n",
        "\n",
        "  def append_list(self):\n",
        "    self.l1.extend(self.l2)\n",
        "    return self.l1\n",
        "\n",
        "p = prblm([1,2,3],[4,5,6])\n",
        "p.append_list()"
      ],
      "metadata": {
        "id": "pXbVBz9ECm58",
        "colab": {
          "base_uri": "https://localhost:8080/"
        },
        "outputId": "91e7a687-e249-4c99-d0c1-01e27480d623"
      },
      "execution_count": 6,
      "outputs": [
        {
          "output_type": "execute_result",
          "data": {
            "text/plain": [
              "[1, 2, 3, 4, 5, 6]"
            ]
          },
          "metadata": {},
          "execution_count": 6
        }
      ]
    },
    {
      "cell_type": "code",
      "source": [
        "# 26\n",
        "\n",
        "class prblm:\n",
        "  def __init__(self, l1, l2):\n",
        "    self.l1 = l1\n",
        "    self.l2 = l2\n",
        "\n",
        "  def isIdentical(self):\n",
        "    return \"\".join(map(str, self.l1)) in \"\".join(map(str, self.l2)) * 2\n",
        "\n",
        "\n",
        "p = prblm([10, 10, 0, 0, 10], [1, 10, 10, 0, 0])\n",
        "p.isIdentical()"
      ],
      "metadata": {
        "id": "0Z_MTaRZCm3j",
        "colab": {
          "base_uri": "https://localhost:8080/"
        },
        "outputId": "81024946-afd0-498c-ea30-5c000b133558"
      },
      "execution_count": 8,
      "outputs": [
        {
          "output_type": "execute_result",
          "data": {
            "text/plain": [
              "False"
            ]
          },
          "metadata": {},
          "execution_count": 8
        }
      ]
    },
    {
      "cell_type": "code",
      "source": [
        "# 30\n",
        "\n",
        "class prblm:\n",
        "  def __init__(self, l):\n",
        "    self.l = l\n",
        "\n",
        "  def freq(self):\n",
        "    d = {}\n",
        "\n",
        "    for i in self.l:\n",
        "      if i in d:\n",
        "        d[i] += 1\n",
        "      else:\n",
        "        d[i] = 1\n",
        "    return d\n",
        "\n",
        "p = prblm([1,2,3,4,3,5,6,3,5,7])\n",
        "p.freq()"
      ],
      "metadata": {
        "id": "s1jk3-F4Cm07",
        "colab": {
          "base_uri": "https://localhost:8080/"
        },
        "outputId": "7b4b5d33-af6c-4635-9707-00874402a5d6"
      },
      "execution_count": 13,
      "outputs": [
        {
          "output_type": "stream",
          "name": "stdout",
          "text": [
            "{1: 1, 2: 1, 3: 3, 4: 1, 5: 2, 6: 1, 7: 1}\n"
          ]
        }
      ]
    },
    {
      "cell_type": "code",
      "source": [
        "# 33\n",
        "class prblm:\n",
        "  def __init__(self, l):\n",
        "    self.l = l\n",
        "\n",
        "  def sub_list(self):\n",
        "    ans = []\n",
        "\n",
        "    for i in range(0, len(self.l)):\n",
        "      for j in range(i + 1, len(self.l) + 1):\n",
        "        ans.append(self.l[i:j])\n",
        "    return ans\n",
        "\n",
        "p = prblm([1,2,3,4,5])\n",
        "p.sub_list()\n",
        "\n"
      ],
      "metadata": {
        "id": "KGWmV6DlCmyj",
        "colab": {
          "base_uri": "https://localhost:8080/"
        },
        "outputId": "233783de-fa9f-4431-e33b-9b4df4b2f843"
      },
      "execution_count": 18,
      "outputs": [
        {
          "output_type": "execute_result",
          "data": {
            "text/plain": [
              "[[1],\n",
              " [1, 2],\n",
              " [1, 2, 3],\n",
              " [1, 2, 3, 4],\n",
              " [1, 2, 3, 4, 5],\n",
              " [2],\n",
              " [2, 3],\n",
              " [2, 3, 4],\n",
              " [2, 3, 4, 5],\n",
              " [3],\n",
              " [3, 4],\n",
              " [3, 4, 5],\n",
              " [4],\n",
              " [4, 5],\n",
              " [5]]"
            ]
          },
          "metadata": {},
          "execution_count": 18
        }
      ]
    },
    {
      "cell_type": "code",
      "source": [
        "# 35\n",
        "class prblm:\n",
        "  def __init__(self, l, n) -> None:\n",
        "    self.l = l\n",
        "    self.n = n\n",
        "\n",
        "  def concate(self):\n",
        "    ans = []\n",
        "    for i in range(1, self.n + 1):\n",
        "      for j in self.l:\n",
        "        ans.append(j + str(i))\n",
        "    return ans\n",
        "\n",
        "p = prblm(['p', 'q'], 5)\n",
        "p.concate()\n"
      ],
      "metadata": {
        "id": "kgS1azGkCmwD",
        "colab": {
          "base_uri": "https://localhost:8080/"
        },
        "outputId": "f7c15903-c92a-4256-c114-871f8e3b3a92"
      },
      "execution_count": 21,
      "outputs": [
        {
          "output_type": "execute_result",
          "data": {
            "text/plain": [
              "['p1', 'q1', 'p2', 'q2', 'p3', 'q3', 'p4', 'q4', 'p5', 'q5']"
            ]
          },
          "metadata": {},
          "execution_count": 21
        }
      ]
    },
    {
      "cell_type": "code",
      "source": [
        "# 37\n",
        "\n",
        "class prblm:\n",
        "  def __init__(self, l1 ,l2) -> None:\n",
        "    self.l1 = l1\n",
        "    self.l2 = l2\n",
        "\n",
        "  def __str__(self) -> str:\n",
        "    return f\"common element : {list(set(self.l1) & set(self.l2))}\"\n",
        "\n",
        "p = prblm([1,2,3,4,5], [4,5,6,7,8])\n",
        "print(p)"
      ],
      "metadata": {
        "id": "R3eEhTwCCmtm",
        "colab": {
          "base_uri": "https://localhost:8080/"
        },
        "outputId": "abfe67ba-e610-456b-cea4-e13ce3c3c72c"
      },
      "execution_count": 23,
      "outputs": [
        {
          "output_type": "stream",
          "name": "stdout",
          "text": [
            "common element : [4, 5]\n"
          ]
        }
      ]
    },
    {
      "cell_type": "code",
      "source": [
        "# 39\n",
        "class prblm:\n",
        "  def __init__(self, l):\n",
        "    self.l = l\n",
        "\n",
        "  def __str__(self) -> str:\n",
        "    return f\"{int(''.join(map(str, self.l)))}\"\n",
        "\n",
        "p = prblm([11,33,40])\n",
        "print(p)\n"
      ],
      "metadata": {
        "id": "EpIdCSrdCmrE",
        "colab": {
          "base_uri": "https://localhost:8080/"
        },
        "outputId": "6ad32d4d-6e23-4180-9d59-93c411c69241"
      },
      "execution_count": 29,
      "outputs": [
        {
          "output_type": "stream",
          "name": "stdout",
          "text": [
            "113340\n"
          ]
        }
      ]
    },
    {
      "cell_type": "code",
      "source": [
        "class prblm:\n",
        "  def __init__(self, l) -> None:\n",
        "    self.l = l\n",
        "\n",
        "  def spilt_list(self):\n",
        "    d = {}\n",
        "    for word in self.l:\n",
        "      f = word[0]\n",
        "      if f not in d:\n",
        "        d[f] = []\n",
        "      d[f].append(word)\n",
        "    return d\n",
        "\n",
        "p = prblm(['apple', 'banana', 'apricot', 'blueberry', 'cherry', 'avocado'])\n",
        "p.spilt_list()"
      ],
      "metadata": {
        "id": "_ezN2vHwCmmL",
        "colab": {
          "base_uri": "https://localhost:8080/"
        },
        "outputId": "6fc47631-cc59-4fca-dc7d-898d4c5c11e2"
      },
      "execution_count": 31,
      "outputs": [
        {
          "output_type": "execute_result",
          "data": {
            "text/plain": [
              "{'a': ['apple', 'apricot', 'avocado'],\n",
              " 'b': ['banana', 'blueberry'],\n",
              " 'c': ['cherry']}"
            ]
          },
          "metadata": {},
          "execution_count": 31
        }
      ]
    }
  ]
}