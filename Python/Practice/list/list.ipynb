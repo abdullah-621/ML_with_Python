{
 "cells": [
  {
   "cell_type": "code",
   "execution_count": 10,
   "id": "01afdfea",
   "metadata": {},
   "outputs": [
    {
     "name": "stdout",
     "output_type": "stream",
     "text": [
      "162\n"
     ]
    }
   ],
   "source": [
    "# Write a Python program to sum all the items in a list.\n",
    "\n",
    "l = [10,20,3,40,5,6,70,8]\n",
    "\n",
    "ans = 0\n",
    "\n",
    "for i in range(0, len(l)):\n",
    "  ans += l[i]\n",
    "\n",
    "print(ans)"
   ]
  },
  {
   "cell_type": "code",
   "execution_count": 6,
   "id": "e7aaccde",
   "metadata": {},
   "outputs": [
    {
     "data": {
      "text/plain": [
       "40320"
      ]
     },
     "execution_count": 6,
     "metadata": {},
     "output_type": "execute_result"
    }
   ],
   "source": [
    "# Write a Python program to multiplies all the items in a list.\n",
    "\n",
    "multi = 1\n",
    "\n",
    "for i in l:\n",
    "  multi *= i\n",
    "\n",
    "multi"
   ]
  },
  {
   "cell_type": "code",
   "execution_count": 11,
   "id": "124ba9e7",
   "metadata": {},
   "outputs": [
    {
     "data": {
      "text/plain": [
       "70"
      ]
     },
     "execution_count": 11,
     "metadata": {},
     "output_type": "execute_result"
    }
   ],
   "source": [
    "# Write a Python program to get the largest number from a list.\n",
    "largest = 0\n",
    "\n",
    "for i in l:\n",
    "  largest = max(largest, i)\n",
    "\n",
    "largest\n"
   ]
  },
  {
   "cell_type": "code",
   "execution_count": 12,
   "id": "b1e42436",
   "metadata": {},
   "outputs": [
    {
     "data": {
      "text/plain": [
       "3"
      ]
     },
     "execution_count": 12,
     "metadata": {},
     "output_type": "execute_result"
    }
   ],
   "source": [
    "# Write a Python program to get the smallest number from a list.\n",
    "\n",
    "smallest = l[0]\n",
    "\n",
    "for i in l:\n",
    "  smallest = min(smallest, i)\n",
    "\n",
    "smallest"
   ]
  },
  {
   "cell_type": "code",
   "execution_count": 16,
   "id": "96e622bd",
   "metadata": {},
   "outputs": [
    {
     "data": {
      "text/plain": [
       "2"
      ]
     },
     "execution_count": 16,
     "metadata": {},
     "output_type": "execute_result"
    }
   ],
   "source": [
    "# Write a Python program to count the number of strings where the string length\n",
    "# is 2 or more and the first and last character are same from a given list of strings.\n",
    "\n",
    "List = ['abc', 'xyz', 'aba', '1221']\n",
    "\n",
    "ans = 0\n",
    "\n",
    "for item in List:\n",
    "  if len(item) >= 2 and item[0] == item[-1]:\n",
    "    ans += 1\n",
    "\n",
    "ans"
   ]
  },
  {
   "cell_type": "code",
   "execution_count": null,
   "id": "d5f0c0bc",
   "metadata": {},
   "outputs": [],
   "source": [
    "# Write a Python program to get a list, sorted in increasing order by the last\n",
    "# element in each tuple from a given list of non-empty tuples."
   ]
  },
  {
   "cell_type": "code",
   "execution_count": null,
   "id": "ff8d0795",
   "metadata": {},
   "outputs": [
    {
     "data": {
      "text/plain": [
       "[1, 2, 3, 4, 5, 6]"
      ]
     },
     "execution_count": 20,
     "metadata": {},
     "output_type": "execute_result"
    }
   ],
   "source": [
    "# Write a Python program to remove duplicates from a list.\n",
    "a = [1,2,3,2,4,4,5,6,6,6,6]\n",
    "b = set(a)\n",
    "a = list(b)\n",
    "a"
   ]
  },
  {
   "cell_type": "code",
   "execution_count": 24,
   "id": "2bccca73",
   "metadata": {},
   "outputs": [
    {
     "data": {
      "text/plain": [
       "[1, 2, 3, 4, 5, 6]"
      ]
     },
     "execution_count": 24,
     "metadata": {},
     "output_type": "execute_result"
    }
   ],
   "source": [
    "a = [1,2,3,2,4,4,5,6,6,6,6]\n",
    "unique_a = []\n",
    "\n",
    "for item in a:\n",
    "  if item not in unique_a:\n",
    "    unique_a.append(item)\n",
    "\n",
    "unique_a"
   ]
  },
  {
   "cell_type": "code",
   "execution_count": 26,
   "id": "f9e7f622",
   "metadata": {},
   "outputs": [
    {
     "name": "stdout",
     "output_type": "stream",
     "text": [
      "Not Empty !\n"
     ]
    }
   ],
   "source": [
    "# Write a Python program to check a list is empty or not.\n",
    "\n",
    "b = [3]\n",
    "\n",
    "if len(b) == 0:\n",
    "  print(\"Yes Empty !\")\n",
    "else:\n",
    "  print(\"Not Empty !\")"
   ]
  },
  {
   "cell_type": "code",
   "execution_count": 28,
   "id": "6fb5e3b8",
   "metadata": {},
   "outputs": [
    {
     "data": {
      "text/plain": [
       "[1, 2, 3, 2, 4, 4, 5, 6, 6, 6, 6]"
      ]
     },
     "execution_count": 28,
     "metadata": {},
     "output_type": "execute_result"
    }
   ],
   "source": [
    "# Write a Python program to clone or copy a list.\n",
    "d = a.copy()\n",
    "d"
   ]
  },
  {
   "cell_type": "code",
   "execution_count": 31,
   "id": "8c1afb2e",
   "metadata": {},
   "outputs": [
    {
     "data": {
      "text/plain": [
       "[3, 2, 4, 4]"
      ]
     },
     "execution_count": 31,
     "metadata": {},
     "output_type": "execute_result"
    }
   ],
   "source": [
    "d = a[2:6]\n",
    "d"
   ]
  },
  {
   "cell_type": "code",
   "execution_count": null,
   "id": "4da7dad4",
   "metadata": {},
   "outputs": [],
   "source": [
    "# Write a Python program to find the list of words that are longer than n from a given list of words.\n",
    "\n"
   ]
  },
  {
   "cell_type": "code",
   "execution_count": 36,
   "id": "65a5ef26",
   "metadata": {},
   "outputs": [
    {
     "data": {
      "text/plain": [
       "False"
      ]
     },
     "execution_count": 36,
     "metadata": {},
     "output_type": "execute_result"
    }
   ],
   "source": [
    "# Write a Python function that takes two lists and returns True if they have at least one common member.\n",
    "a = [1,2,3,4,52]\n",
    "b = [5,6,7,8,9]\n",
    "\n",
    "def common(a,b):\n",
    "  for i in a:\n",
    "    if i in b:\n",
    "      return True\n",
    "  else:\n",
    "    return False\n",
    "    \n",
    "\n",
    "\n",
    "common(a,b)\n"
   ]
  },
  {
   "cell_type": "code",
   "execution_count": 45,
   "id": "cf141a32",
   "metadata": {},
   "outputs": [
    {
     "data": {
      "text/plain": [
       "['Green', 'White', 'Black']"
      ]
     },
     "execution_count": 45,
     "metadata": {},
     "output_type": "execute_result"
    }
   ],
   "source": [
    "# Write a Python program to print a specified list after removing the 0th, 4th and 5th elements.\n",
    "\n",
    "l = ['Red', 'Green', 'White', 'Black', 'Pink', 'Yellow']\n",
    "l.pop(5)\n",
    "l.pop(4)\n",
    "l.pop(0)\n",
    "l"
   ]
  },
  {
   "cell_type": "code",
   "execution_count": 50,
   "id": "416d8a71",
   "metadata": {},
   "outputs": [
    {
     "data": {
      "text/plain": [
       "[1, 3, 5, 7, 9]"
      ]
     },
     "execution_count": 50,
     "metadata": {},
     "output_type": "execute_result"
    }
   ],
   "source": [
    "# Write a Python program to print the numbers of a specified list after removing even numbers from it.\n",
    "\n",
    "l = [1,2,3,4,5,6,7,8,9]\n",
    "result = []\n",
    "\n",
    "for item in range(0,len(l)):\n",
    "  if l[item] % 2 != 0:\n",
    "    result.append(l[item])\n",
    "\n",
    "result"
   ]
  },
  {
   "cell_type": "code",
   "execution_count": null,
   "id": "68c3d953",
   "metadata": {},
   "outputs": [],
   "source": []
  },
  {
   "cell_type": "code",
   "execution_count": null,
   "id": "fd72e9d2",
   "metadata": {},
   "outputs": [],
   "source": []
  },
  {
   "cell_type": "code",
   "execution_count": null,
   "id": "64e43670",
   "metadata": {},
   "outputs": [],
   "source": []
  },
  {
   "cell_type": "code",
   "execution_count": null,
   "id": "ccd92d54",
   "metadata": {},
   "outputs": [],
   "source": []
  },
  {
   "cell_type": "code",
   "execution_count": null,
   "id": "89c4969f",
   "metadata": {},
   "outputs": [],
   "source": []
  }
 ],
 "metadata": {
  "kernelspec": {
   "display_name": "Python 3",
   "language": "python",
   "name": "python3"
  },
  "language_info": {
   "codemirror_mode": {
    "name": "ipython",
    "version": 3
   },
   "file_extension": ".py",
   "mimetype": "text/x-python",
   "name": "python",
   "nbconvert_exporter": "python",
   "pygments_lexer": "ipython3",
   "version": "3.13.5"
  }
 },
 "nbformat": 4,
 "nbformat_minor": 5
}
