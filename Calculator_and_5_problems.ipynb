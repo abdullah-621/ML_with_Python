{
  "nbformat": 4,
  "nbformat_minor": 0,
  "metadata": {
    "colab": {
      "provenance": [],
      "authorship_tag": "ABX9TyMjNSqF2GKR+6B4B2sRaO1Z",
      "include_colab_link": true
    },
    "kernelspec": {
      "name": "python3",
      "display_name": "Python 3"
    },
    "language_info": {
      "name": "python"
    }
  },
  "cells": [
    {
      "cell_type": "markdown",
      "metadata": {
        "id": "view-in-github",
        "colab_type": "text"
      },
      "source": [
        "<a href=\"https://colab.research.google.com/github/abdullah-621/ML_with_Python/blob/main/Calculator_and_5_problems.ipynb\" target=\"_parent\"><img src=\"https://colab.research.google.com/assets/colab-badge.svg\" alt=\"Open In Colab\"/></a>"
      ]
    },
    {
      "cell_type": "code",
      "source": [
        "# Claculator\n",
        "\n",
        "def calculator():\n",
        "  def add(*a):\n",
        "    s = 0\n",
        "    for i in a:\n",
        "      s += i\n",
        "    return s\n",
        "\n",
        "  def sub(a,b):\n",
        "    return a - b\n",
        "\n",
        "  def mult(*a):\n",
        "    s = 1\n",
        "    for i in a:\n",
        "      s *= i\n",
        "    return s\n",
        "\n",
        "  def div(a, b):\n",
        "    try:\n",
        "      print(f\"Division of {a} and {b} is {a / b}\")\n",
        "    except ZeroDivisionError: # catch zero divison time\n",
        "      print(\"You can't divide anything by zero\")\n",
        "\n",
        "  while True:\n",
        "    try:\n",
        "\n",
        "      print(\"\\n1. Sumation\")\n",
        "      print(\"2. Subtraction\")\n",
        "      print(\"3. Multiplication\")\n",
        "      print(\"4. Division\")\n",
        "      print(\"5. Exit\\n\")\n",
        "\n",
        "      choice = int(input(\"Choose your option (1–5):\"))\n",
        "      print()\n",
        "\n",
        "      if(choice < 1 or choice > 5):\n",
        "        print(\"Enter valid Number (1 to 5)\")\n",
        "\n",
        "      elif(choice == 5):\n",
        "        print(\"Your are exit in this program!\")\n",
        "        break\n",
        "\n",
        "      else:\n",
        "        try:\n",
        "          a = int(input(\"Enter 1st number :\"))\n",
        "          b = int(input(\"Enter 2nd number :\"))\n",
        "          print()\n",
        "\n",
        "          if(choice == 1):\n",
        "            print(f\"sumation of {a} and {b} is {add(a,b)}\")\n",
        "          elif(choice == 2):\n",
        "            print(f\"subtraction of {a} and {b} is {sub(a,b)}\")\n",
        "          elif(choice == 3):\n",
        "            print(f\"Multiplication of {a} and {b} is {mult(a,b)}\")\n",
        "          elif(choice == 4):\n",
        "            div(a,b)\n",
        "\n",
        "        except ValueError:\n",
        "                  print(\"Please enter only numeric values.\")\n",
        "\n",
        "    except ValueError:\n",
        "      print(\"Invalid choice! Please enter a number between 1–5.\")\n",
        "\n",
        "\n",
        "calculator()"
      ],
      "metadata": {
        "colab": {
          "base_uri": "https://localhost:8080/"
        },
        "id": "PscGpsLD0vV3",
        "outputId": "53463feb-fa1e-409f-a642-a94fa533931d"
      },
      "execution_count": 48,
      "outputs": [
        {
          "output_type": "stream",
          "name": "stdout",
          "text": [
            "\n",
            "1. Sumation\n",
            "2. Subtraction\n",
            "3. Multiplication\n",
            "4. Division\n",
            "5. Exit\n",
            "\n",
            "Choose your option (1–5):5\n",
            "\n",
            "Your program is exit !\n"
          ]
        }
      ]
    },
    {
      "cell_type": "code",
      "source": [
        "# Write a Python program to sum all the items in a list.\n",
        "\n",
        "a = [1,2,3,4,5,6,7]\n",
        "ans = a[0]\n",
        "\n",
        "for i in a:\n",
        "  ans += i\n",
        "\n",
        "print(\"Result is : \", ans)"
      ],
      "metadata": {
        "colab": {
          "base_uri": "https://localhost:8080/"
        },
        "id": "QkY87EWK0u-T",
        "outputId": "05fb4f4d-dd4e-4a80-a29a-8600e6ec2c3a"
      },
      "execution_count": 41,
      "outputs": [
        {
          "output_type": "stream",
          "name": "stdout",
          "text": [
            "Result is :  29\n"
          ]
        }
      ]
    },
    {
      "cell_type": "code",
      "source": [
        "# Write a Python program to multiplies all the items in a list.\n",
        "\n",
        "a = [1,2,3,4,5,6,7]\n",
        "ans = a[0]\n",
        "\n",
        "for i in a:\n",
        "  ans *= i\n",
        "\n",
        "print(\"Result is : \", ans)"
      ],
      "metadata": {
        "colab": {
          "base_uri": "https://localhost:8080/"
        },
        "id": "94-_ZZic0u6x",
        "outputId": "49f1d2f5-0abf-4db5-c362-17ac0456eb86"
      },
      "execution_count": 42,
      "outputs": [
        {
          "output_type": "stream",
          "name": "stdout",
          "text": [
            "Result is :  5040\n"
          ]
        }
      ]
    },
    {
      "cell_type": "code",
      "source": [
        "# Write a Python program to get the largest number from a list.\n",
        "a = [1,2,3,4,5,6,7]\n",
        "\n",
        "ans = a[0]\n",
        "\n",
        "for i in a:\n",
        "  if i > ans:\n",
        "    ans = i\n",
        "\n",
        "ans"
      ],
      "metadata": {
        "id": "xdCyniJjMUYc"
      },
      "execution_count": null,
      "outputs": []
    },
    {
      "cell_type": "code",
      "source": [
        "# Write a Python program to get the smallest number from a list.\n",
        "\n",
        "a = [1,2,3,4,5,6,7]\n",
        "\n",
        "ans = a[0]\n",
        "\n",
        "for i in a:\n",
        "  if i < ans:\n",
        "    ans = i\n",
        "\n",
        "ans"
      ],
      "metadata": {
        "colab": {
          "base_uri": "https://localhost:8080/"
        },
        "id": "Vsx9d1bFMUSK",
        "outputId": "35ecd4d0-b807-4879-9489-c8304f978c87"
      },
      "execution_count": 44,
      "outputs": [
        {
          "output_type": "execute_result",
          "data": {
            "text/plain": [
              "1"
            ]
          },
          "metadata": {},
          "execution_count": 44
        }
      ]
    },
    {
      "cell_type": "code",
      "source": [
        "# Write a Python program to count the number of strings where the string length\n",
        "# is 2 or more and the first and last character are same from a given list of strings.\n",
        "\n",
        "List = ['abc', 'xyz', 'aba', '1221']\n",
        "\n",
        "ans = []\n",
        "\n",
        "for word in List:\n",
        "  if (len(word) > 2) &( word[0] == word[-1]):\n",
        "    ans.append(word)\n",
        "\n",
        "ans"
      ],
      "metadata": {
        "colab": {
          "base_uri": "https://localhost:8080/"
        },
        "id": "0UMiFASbMqgv",
        "outputId": "cc702f68-44dd-4862-bdb0-be20e62db6f1"
      },
      "execution_count": 46,
      "outputs": [
        {
          "output_type": "execute_result",
          "data": {
            "text/plain": [
              "['aba', '1221']"
            ]
          },
          "metadata": {},
          "execution_count": 46
        }
      ]
    }
  ]
}